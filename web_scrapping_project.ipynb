{
 "cells": [
  {
   "cell_type": "code",
   "execution_count": null,
   "id": "0b9f92b9-7385-4b8b-858f-d81836a13cf0",
   "metadata": {},
   "outputs": [],
   "source": [
    "#web scraping and data extraction with python\n",
    "\n",
    "#biuld a webscrapper that extract structured data from a wikipedia blog "
   ]
  },
  {
   "cell_type": "code",
   "execution_count": 1,
   "id": "533e73fe-3c18-479e-9cf4-bef92a37b48f",
   "metadata": {},
   "outputs": [
    {
     "name": "stdout",
     "output_type": "stream",
     "text": [
      "Defaulting to user installation because normal site-packages is not writeable\n",
      "Requirement already satisfied: beautifulsoup4 in c:\\programdata\\anaconda3\\lib\\site-packages (4.12.3)\n",
      "Requirement already satisfied: soupsieve>1.2 in c:\\programdata\\anaconda3\\lib\\site-packages (from beautifulsoup4) (2.5)\n",
      "Note: you may need to restart the kernel to use updated packages.\n",
      "Defaulting to user installation because normal site-packages is not writeable\n",
      "Requirement already satisfied: requests in c:\\programdata\\anaconda3\\lib\\site-packages (2.32.3)\n",
      "Requirement already satisfied: charset-normalizer<4,>=2 in c:\\programdata\\anaconda3\\lib\\site-packages (from requests) (3.3.2)\n",
      "Requirement already satisfied: idna<4,>=2.5 in c:\\programdata\\anaconda3\\lib\\site-packages (from requests) (3.7)\n",
      "Requirement already satisfied: urllib3<3,>=1.21.1 in c:\\programdata\\anaconda3\\lib\\site-packages (from requests) (2.3.0)\n",
      "Requirement already satisfied: certifi>=2017.4.17 in c:\\programdata\\anaconda3\\lib\\site-packages (from requests) (2025.7.14)\n",
      "Note: you may need to restart the kernel to use updated packages.\n"
     ]
    }
   ],
   "source": [
    "#import relevent liabraries\n",
    "\n",
    "#1. requests for making HTTP requests\n",
    "#2. BeautifulSoup from bs4 for parsing HTML\n",
    "#3. pandas for tabular data manipulation\n",
    "\n",
    "%pip install beautifulsoup4\n",
    "%pip install requests\n"
   ]
  },
  {
   "cell_type": "code",
   "execution_count": 4,
   "id": "384e3ce3-d7a0-44b1-8388-30234fe10a8d",
   "metadata": {},
   "outputs": [],
   "source": [
    "import requests\n",
    "from bs4 import BeautifulSoup\n",
    "import pandas as pd"
   ]
  },
  {
   "cell_type": "code",
   "execution_count": 111,
   "id": "8056aafe-f85a-4a44-9426-3a1397ec76be",
   "metadata": {},
   "outputs": [],
   "source": [
    "###Perform HTTP GET request to the url:- \n",
    "###Save the respose for further processing\n",
    "\n",
    "url = \"https://www.w3schools.com/html/html_tables.asp?utm_source=chatgpt.com\"\n",
    "response = requests.get(url)\n",
    "html_content = response.text\n"
   ]
  },
  {
   "cell_type": "code",
   "execution_count": 112,
   "id": "15a3d863-28d2-4a95-86ed-a389122e0c05",
   "metadata": {},
   "outputs": [
    {
     "name": "stdout",
     "output_type": "stream",
     "text": [
      "request sucessful!\n"
     ]
    }
   ],
   "source": [
    "#check request status\n",
    "\n",
    "#ensure the HTTP request is sucessful by checking the status code of the rsponse\n",
    "#print a message\n",
    "#. Sucess: - if the status code is 200\n",
    "#. Error:- if any other status code is returned \n",
    "\n",
    "if response.status_code == 200:\n",
    "    print(\"request sucessful!\")\n",
    "else:\n",
    "    print(\"error\")\n"
   ]
  },
  {
   "cell_type": "code",
   "execution_count": 113,
   "id": "f0b6bad2-088e-444f-a049-43f92c797ddd",
   "metadata": {},
   "outputs": [],
   "source": [
    "#Build extraction model\n",
    "\n",
    "#Parse the html content using BeautifulSoup\n",
    "#Use the \"html_parser\" as the parser\n",
    "#save the parsed object for further extraction tasks.\n",
    "\n",
    "soup = BeautifulSoup(html_content , \"html.parser\")"
   ]
  },
  {
   "cell_type": "code",
   "execution_count": 114,
   "id": "73fa8359-15a1-40fe-8d17-7361e4bfcfed",
   "metadata": {},
   "outputs": [
    {
     "name": "stdout",
     "output_type": "stream",
     "text": [
      "['Tutorials', 'HTML and CSS', 'Data Analytics', 'Web Building', 'JavaScript', 'Web Building', 'Backend', 'Data Analytics', 'Web Building', 'References', 'HTML and CSS', 'JavaScript', 'Backend', 'Exercises', 'HTML and CSS', 'Data Analytics', 'JavaScript', 'Backend', 'Data Analytics', 'Certificates', 'HTML and CSS', 'Data Analytics', 'Programs', 'JavaScript', 'Programs', 'Programs', 'Backend', 'Data Analytics', 'All Our Services', 'HTML Tutorial', 'HTML Forms', 'HTML Graphics', 'HTML Media', 'HTML APIs', 'HTML Examples', 'HTML References', 'HTML Tables', 'Example', 'Define an HTML Table', 'Example', 'Table Cells', 'Example', 'Table Rows', 'Example', 'Table Headers', 'Example', 'HTML Table Tags', 'Video: HTML Tables', 'Contact Sales', 'Report Error']\n"
     ]
    }
   ],
   "source": [
    "#Extract Headings\n",
    "\n",
    "#use beautifulsoup to extract all headings<h1> , <h2> , <h3>\n",
    "#save the extracted text into a structured format such as Python dictionary or a list\n",
    "\n",
    "headings = [headings.text.strip() for headings in soup.find_all(['h1' , 'h2' , 'h3'])]\n",
    "print(headings)"
   ]
  },
  {
   "cell_type": "code",
   "execution_count": 115,
   "id": "17e8d6da-c9d1-4897-8305-974a19b49845",
   "metadata": {},
   "outputs": [
    {
     "name": "stdout",
     "output_type": "stream",
     "text": [
      "['W3Schools offers a wide range of services and products for\\n                beginners and professionals,\\n                \\n                helping millions of people everyday to learn and master new\\n                skills.', 'Enjoy our free tutorials like millions of other internet\\n                      users since 1999', 'Explore our selection of references covering all popular\\n                      coding languages', 'Create your own website with\\n                      W3Schools Spaces\\n                      - no setup required', 'Test your skills with different exercises', 'Test yourself with multiple choice questions', 'Document your knowledge', 'Create a\\n                      free\\n                      W3Schools Account to Improve Your Learning Experience', 'Track your learning progress at W3Schools and collect\\n                      rewards', 'Become a PLUS user and unlock powerful features (ad-free,\\n                      hosting, support,..)', 'Not sure where you want to start? Follow our guided path', 'With our online code editor, you can edit code and view\\n                      the result in your browser', 'Learn the basics of HTML in a fun and engaging video\\n                      tutorial', 'We have created a bunch of responsive website templates\\n                      you can use - for free!', 'Host your own website, and share it to the world with\\n                      W3Schools Spaces', 'Create your own server using Python, PHP, React.js,\\n                      Node.js, Java, C#, etc.', 'Large collection of code snippets for HTML, CSS and\\n                      JavaScript', 'Build fast and responsive sites using our free\\n                      W3.CSS\\n                      framework', 'Read long term trends of browser usage', 'Test your typing speed', 'Use our color picker to find different RGB, HEX and HSL\\n                      colors.', 'W3Schools Coding Game! Help the lynx collect pine cones', 'Join our newsletter and get access to exclusive content\\n                      every month', 'Contact us about W3Schools Academy for educational\\n                      institutions', 'Contact us about W3Schools Academy for your organization', 'About sales:\\n                      sales@w3schools.com\\n\\n                      About errors:\\n                      help@w3schools.com', 'Check out our refererence page with all the emojis supported in HTML\\n                      😊', 'Check out our full UTF-8 Character reference', 'HTML tables allow web developers to arrange data into rows and \\ncolumns.', 'A table in HTML consists of table cells inside rows and columns.', 'A simple HTML table:', 'Each table cell is defined by a\\n<td> and a </td> tag.', 'td \\nstands for table data.', 'Everything between <td> and </td> \\nis the content of a table cell.', 'Note: A table cell can contain \\nall sorts of HTML elements: text, images, lists, links, other tables, etc.', 'Each table row starts with a \\n<tr> and ends with a </tr> tag.', 'tr \\nstands for table row.', 'You can have as many rows as you like in a table; just make sure that the number of cells are the same in each row.', 'Note: There are times when a row can have less or more cells than another. You will learn about that in a later chapter.', 'Sometimes you want your cells to be table header cells. In those cases use the\\n<th> tag instead of the\\n<td> tag:', 'th \\nstands for table header.', 'Let the first row be table header cells:', 'By default, the text in <th> elements \\nare bold and centered, but you can change that with CSS.', 'For a complete list of all available HTML tags, visit our HTML Tag Reference.', 'Styling Tables\\nFilter Table\\nSort Table\\nResponsive Table\\nZebra Striped Table', 'REMOVE ADS', 'If you want to use W3Schools services as an educational institution, team or enterprise, send us an e-mail:sales@w3schools.com', 'If you want to report an error, or if you want to make a suggestion, send us an e-mail:help@w3schools.com']\n"
     ]
    }
   ],
   "source": [
    "#Extract All Paragraphs\n",
    "\n",
    "#extract all the content with <p> tags\n",
    "#combine the paragraph text into\n",
    "  #A list where each item is a paragraph\n",
    "  #Or a single block of text\n",
    "\n",
    "paragraph = [ paragraph.text.strip() for paragraph in soup.find_all(['p']) ]\n",
    "print(paragraph)"
   ]
  },
  {
   "cell_type": "code",
   "execution_count": 116,
   "id": "5241b9e6-bbd4-4b82-8730-2b2b8b1c88ab",
   "metadata": {},
   "outputs": [
    {
     "name": "stdout",
     "output_type": "stream",
     "text": [
      "['https://www.w3schools.com', 'javascript:void(0)', 'javascript:void(0)', 'javascript:void(0)', 'javascript:void(0)', 'javascript:void(0)', 'javascript:void(0)', 'https://profile.w3schools.com/log-in', 'https://campus.w3schools.com/collections/course-catalog', 'https://order.w3schools.com/plans', '/academy/index.php', '/spaces/index.php', 'https://campus.w3schools.com/collections/course-catalog', 'https://order.w3schools.com/plans', '/academy/index.php', 'https://spaces.w3schools.com/space/', 'https://pathfinder.w3schools.com', '/spaces/index.php', 'https://campus.w3schools.com/collections/course-catalog', 'https://order.w3schools.com/plans', '/academy/index.php', 'https://profile.w3schools.com/logout', 'https://www.youtube.com/@w3schools', 'https://www.linkedin.com/company/w3schools.com/', 'https://discord.com/invite/w3schools', 'https://www.facebook.com/w3schoolscom/', 'https://www.instagram.com/w3schools.com_official/', '/html/default.asp', '/html/default.asp', '/tags/default.asp', '/css/default.asp', '/css/default.asp', '/cssref/default.asp', '/css/css_rwd_intro.asp', '/css/css_rwd_intro.asp', '/bootstrap/bootstrap_ver.asp', '/bootstrap/bootstrap_ver.asp', '/w3css/default.asp', '/w3css/default.asp', '/w3css/w3css_references.asp', '/sass/default.asp', '/sass/default.asp', '/sass/sass_functions_string.asp', '/colors/default.asp', '/colors/default.asp', '/colors/colors_fs595.asp', '/icons/default.asp', '/icons/default.asp', '/icons/icons_reference.asp', '/graphics/svg_intro.asp', '/graphics/svg_intro.asp', '/graphics/svg_reference.asp', '/graphics/canvas_intro.asp', '/graphics/canvas_intro.asp', '/graphics/canvas_reference.asp', '/graphics/default.asp', '/graphics/default.asp', '/charsets/default.asp', '/charsets/default.asp', '/howto/default.asp', '/howto/default.asp', '/ai/default.asp', '/ai/default.asp', '/gen_ai/index.php', '/gen_ai/index.php', '/gen_ai/chatgpt-3-5/index.php', '/gen_ai/chatgpt-3-5/index.php', '/gen_ai/chatgpt-4/index.php', '/gen_ai/chatgpt-4/index.php', '/gen_ai/bard/index.php', '/gen_ai/bard/index.php', '/python/python_ml_getting_started.asp', '/python/python_ml_getting_started.asp', '/dsa/index.php', '/dsa/index.php', '/datascience/default.asp', '/datascience/default.asp', '/python/numpy/default.asp', '/python/numpy/default.asp', '/python/pandas/default.asp', '/python/pandas/default.asp', '/python/scipy/index.php', '/python/scipy/index.php', '/python/matplotlib_intro.asp', '/python/matplotlib_intro.asp', '/statistics/index.php', '/statistics/index.php', '/excel/index.php', '/excel/index.php', '/googlesheets/index.php', '/googlesheets/index.php', '/spaces/index.php', '/spaces/index.php', '/where_to_start.asp', '/w3css/w3css_templates.asp', '/browsers/default.asp', 'https://campus.w3schools.com', '/whatis/default.asp', '/programming/index.php', '/tryit/default.asp', '/typingspeed/default.asp', '/codegame/index.html', '/cybersecurity/index.php', '/accessibility/index.php', 'https://campus.w3schools.com/pages/newsletter', '/js/default.asp', '/js/default.asp', '/jsref/default.asp', '/react/default.asp', '/react/default.asp', '/jquery/default.asp', '/jquery/default.asp', '/jquery/jquery_ref_overview.asp', '/vue/index.php', '/vue/index.php', '/vue/vue_ref_builtin-attributes.php', '/angular/default.asp', '/angular/default.asp', '/angularjs/default.asp', '/angularjs/default.asp', '/angularjs/angularjs_ref_directives.asp', '/js/js_json_intro.asp', '/js/js_json_intro.asp', '/jsref/jsref_obj_json.asp', '/js/js_ajax_intro.asp', '/js/js_ajax_intro.asp', '/appml/default.asp', '/appml/default.asp', '/appml/appml_reference.asp', '/w3js/default.asp', '/w3js/default.asp', '/w3js/w3js_references.asp', '/spaces/index.php', '/spaces/index.php', '/where_to_start.asp', '/w3css/w3css_templates.asp', '/browsers/default.asp', 'https://campus.w3schools.com', '/whatis/default.asp', '/programming/index.php', '/tryit/default.asp', '/typingspeed/default.asp', '/codegame/index.html', '/cybersecurity/index.php', '/accessibility/index.php', 'https://campus.w3schools.com/pages/newsletter', '/python/default.asp', '/python/default.asp', '/python/python_reference.asp', '/sql/default.asp', '/sql/default.asp', '/sql/sql_ref_keywords.asp', '/mysql/default.asp', '/mysql/default.asp', '/mysql/mysql_datatypes.asp', '/php/default.asp', '/php/default.asp', '/php/php_ref_overview.asp', '/java/default.asp', '/java/default.asp', '/java/java_ref_reference.asp', '/c/index.php', '/c/index.php', '/c/c_ref_reference.php', '/cpp/default.asp', '/cpp/default.asp', '/cpp/cpp_ref_reference.asp', '/cs/index.php', '/cs/index.php', '/r/default.asp', '/r/default.asp', '/kotlin/index.php', '/kotlin/index.php', '/rust/index.php', '/rust/index.php', '/go/index.php', '/go/index.php', '/django/index.php', '/django/index.php', '/django/django_ref_template_tags.php', '/postgresql/index.php', '/postgresql/index.php', '/typescript/index.php', '/typescript/index.php', '/asp/default.asp', '/asp/default.asp', '/asp/asp_ref_vbscript_functions.asp', '/nodejs/default.asp', '/nodejs/default.asp', '/nodejs/ref_modules.asp', '/nodejs/nodejs_raspberrypi.asp', '/nodejs/nodejs_raspberrypi.asp', '/git/default.asp', '/git/default.asp', '/bash/index.php', '/bash/index.php', '/mongodb/index.php', '/mongodb/index.php', '/xml/default.asp', '/xml/default.asp', '/xml/dom_nodetype.asp', '/ai/default.asp', '/ai/default.asp', '/gen_ai/index.php', '/gen_ai/index.php', '/gen_ai/chatgpt-3-5/index.php', '/gen_ai/chatgpt-3-5/index.php', '/gen_ai/chatgpt-4/index.php', '/gen_ai/chatgpt-4/index.php', '/gen_ai/bard/index.php', '/gen_ai/bard/index.php', '/python/python_ml_getting_started.asp', '/python/python_ml_getting_started.asp', '/dsa/index.php', '/dsa/index.php', '/datascience/default.asp', '/datascience/default.asp', '/python/numpy/default.asp', '/python/numpy/default.asp', '/python/pandas/default.asp', '/python/pandas/default.asp', '/python/scipy/index.php', '/python/scipy/index.php', '/python/matplotlib_intro.asp', '/python/matplotlib_intro.asp', '/statistics/index.php', '/statistics/index.php', '/excel/index.php', '/excel/index.php', '/googlesheets/index.php', '/googlesheets/index.php', '/spaces/index.php', '/spaces/index.php', '/where_to_start.asp', '/w3css/w3css_templates.asp', '/browsers/default.asp', 'https://campus.w3schools.com', '/whatis/default.asp', '/programming/index.php', '/tryit/default.asp', '/typingspeed/default.asp', '/codegame/index.html', '/cybersecurity/index.php', '/accessibility/index.php', 'https://campus.w3schools.com/pages/newsletter', '/tags/default.asp', '/cssref/default.asp', '/w3css/w3css_references.asp', '/bootstrap/bootstrap_ref_all_classes.asp', '/bootstrap4/bootstrap_ref_all_classes.asp', '/colors/colors_names.asp', '/icons/default.asp', '/graphics/svg_reference.asp', '/graphics/canvas_reference.asp', '/sass/sass_functions_string.php', '/charsets/default.asp', '/charsets/ref_emoji_smileys.asp', '/jsref/default.asp', '/jquery/jquery_ref_overview.asp', '/vue/vue_ref_builtin-attributes.php', '/angular/angularjs_ref_directives.asp', '/jsref/jsref_obj_json.asp', '/appml/appml_reference.asp', '/e3js/w3js_references.asp', '/python/python_reference.asp', '/sql/sql_ref_keywords.asp', '/mysql/mysql_datatypes.asp', '/php/php_ref_overview.asp', '/java/java_ref_reference.asp', '/c/c_ref_reference.php', '/cpp/cpp_ref_reference.asp', '/django/django_ref_template_tags.php', '/asp/asp_ref_vbscript_functions.asp', '/nodejs/ref_modules.asp', '/xml/dom_nodetype.asp', '/html/html_exercises.asp', '/html/html_exercises.asp', '/html/html_quiz.asp', '/css/css_exercises.asp', '/css/css_exercises.asp', '/css/css_quiz.asp', '/bootstrap/bootstrap_exercises.asp', '/bootstrap/bootstrap_exercises.asp', '/bootstrap/bootstrap_quiz.asp', '/bootstrap4/bootstrap_exercises.asp', '/bootstrap4/bootstrap_exercises.asp', '/bootstrap4/bootstrap_quiz.asp', '/bootstrap5/bootstrap_exercises.php', '/bootstrap5/bootstrap_exercises.php', '/bootstrap5/bootstrap_quiz.php', '/dsa/dsa_exercises.php', '/dsa/dsa_exercises.php', '/dsa/dsa_quiz.php', '/python/numpy/numpy_exercises.asp', '/python/numpy/numpy_exercises.asp', '/python/numpy/numpy_quiz.asp', '/python/pandas/pandas_exercises.asp', '/python/pandas/pandas_exercises.asp', '/python/pandas/pandas_quiz.asp', '/python/scipy/scipy_exercises.php', '/python/scipy/scipy_exercises.php', '/python/scipy/scipy_quiz.php', '/excel/excel_exercises.php', '/excel/excel_exercises.php', '/exercises/index.php', '/quiztest/default.asp', '/js/js_exercises.asp', '/js/js_exercises.asp', '/js/js_quiz.asp', '/react/react_exercises.asp', '/react/react_exercises.asp', '/react/react_quiz.asp', '/jquery/jquery_exercises.asp', '/jquery/jquery_exercises.asp', '/jquery/jquery_quiz.asp', '/vue/vue_exercises.php', '/vue/vue_exercises.php', '/vue/vue_quiz.php', '/angular/angular_exercises.asp', '/angular/angular_exercises.asp', '/angular/angular_quiz.asp', '/python/python_exercises.asp', '/python/python_exercises.asp', '/python/python_quiz.asp', '/sql/sql_exercises.asp', '/sql/sql_exercises.asp', '/sql/sql_quiz.asp', '/mysql/mysql_exercises.asp', '/mysql/mysql_exercises.asp', '/mysql/mysql_quiz.asp', '/php/php_exercises.asp', '/php/php_exercises.asp', '/php/php_quiz.asp', '/java/java_exercises.asp', '/java/java_exercises.asp', '/java/java_quiz.asp', '/c/c_exercises.php', '/c/c_exercises.php', '/c/c_quiz.php', '/cpp/cpp_exercises.asp', '/cpp/cpp_exercises.asp', '/cpp/cpp_quiz.asp', '/cs/cs_exercises.php', '/cs/cs_exercises.php', '/cs/cs_quiz.php', '/r/r_exercises.asp', '/r/r_exercises.asp', '/r/r_quiz.asp', '/kotlin/kotlin_exercises.php', '/kotlin/kotlin_exercises.php', '/kotlin/kotlin_quiz.php', '/django/django_exercises.php', '/django/django_exercises.php', '/django/django_quiz.php', '/nodejs/nodejs_exercises.asp', '/nodejs/nodejs_exercises.asp', '/nodejs/nodejs_quiz.asp', '/postgresql/postgresql_exercises.php', '/postgresql/postgresql_exercises.php', '/postgresql/postgresql_quiz.php', '/typescript/typescript_exercises.php', '/typescript/typescript_exercises.php', '/typescript/typescript_quiz.php', '/git/git_exercises.asp', '/git/git_exercises.asp', '/git/git_quiz.asp', '/bash/bash_exercises.php', '/bash/bash_exercises.php', '/bash/bash_quiz.php', '/go/go_exercises.php', '/go/go_exercises.php', '/mongodb/mongodb_exercises.php', '/mongodb/mongodb_exercises.php', '/dsa/dsa_exercises.php', '/dsa/dsa_exercises.php', '/dsa/dsa_quiz.php', '/python/numpy/numpy_exercises.asp', '/python/numpy/numpy_exercises.asp', '/python/numpy/numpy_quiz.asp', '/python/pandas/pandas_exercises.asp', '/python/pandas/pandas_exercises.asp', '/python/pandas/pandas_quiz.asp', '/python/scipy/scipy_exercises.php', '/python/scipy/scipy_exercises.php', '/python/scipy/scipy_quiz.php', '/excel/excel_exercises.php', '/excel/excel_exercises.php', '/exercises/index.php', '/quiztest/default.asp', 'https://campus.w3schools.com/collections/certifications/products/html-certificate', 'https://campus.w3schools.com/collections/certifications/products/html-certificate', 'https://campus.w3schools.com/collections/course-catalog/products/html-course', 'https://campus.w3schools.com/collections/certifications/products/css-certificate', 'https://campus.w3schools.com/collections/certifications/products/css-certificate', 'https://campus.w3schools.com/collections/course-catalog/products/css-course', 'https://campus.w3schools.com/collections/certifications/products/bootstrap-3-certificate', 'https://campus.w3schools.com/collections/certifications/products/bootstrap-3-certificate', 'https://campus.w3schools.com/collections/single-courses/products/bootstrap-course', 'https://campus.w3schools.com/collections/certifications/products/bootstrap-4-certificate', 'https://campus.w3schools.com/collections/certifications/products/bootstrap-4-certificate', 'https://campus.w3schools.com/collections/single-courses/products/bootstrap-4-course', 'https://campus.w3schools.com/collections/certifications/products/bootstrap-5-certificate', 'https://campus.w3schools.com/collections/certifications/products/bootstrap-5-certificate', 'https://campus.w3schools.com/products/dsa-certification-exam', 'https://campus.w3schools.com/products/dsa-certification-exam', 'https://campus.w3schools.com/products/data-analytics-program', 'https://campus.w3schools.com/products/data-analytics-program', 'https://campus.w3schools.com/products/numpy-certification-exam', 'https://campus.w3schools.com/products/numpy-certification-exam', 'https://campus.w3schools.com/products/numpy-course', 'https://campus.w3schools.com/products/pandas-certification-exam', 'https://campus.w3schools.com/products/pandas-certification-exam', 'https://campus.w3schools.com/products/pandas-course', 'https://campus.w3schools.com/products/excel-certificate', 'https://campus.w3schools.com/products/excel-certificate', 'https://campus.w3schools.com/collections/course-best-sellers/products/social-media-marketing-course', 'https://campus.w3schools.com/collections/course-best-sellers/products/social-media-marketing-course', 'https://campus.w3schools.com', 'https://campus.w3schools.com/collections/course-catalog/products/w3schools-full-access-course', 'https://campus.w3schools.com/collections/certifications/products/front-end-course', 'https://campus.w3schools.com/collections/certifications/products/front-end-certificate', 'https://campus.w3schools.com/collections/course-catalog/products/front-end-course', 'https://campus.w3schools.com/collections/certifications/products/modern-web-development-certification', 'https://campus.w3schools.com/collections/certifications/products/modern-web-development-certification', 'https://campus.w3schools.com/collections/course-best-sellers/products/learn-modern-web-development', 'https://campus.w3schools.com/collections/certifications/products/web-application-development-certificates', 'https://campus.w3schools.com/collections/certifications/products/web-application-development-certificates', 'https://campus.w3schools.com/collections/course-best-sellers/products/web-application-development-course', 'https://campus.w3schools.com/collections/certifications/products/web-design-certification', 'https://campus.w3schools.com/collections/certifications/products/web-design-certification', 'https://campus.w3schools.com/collections/course-best-sellers/products/learn-web-design', 'https://campus.w3schools.com/collections/certifications/products/javascript-certificate', 'https://campus.w3schools.com/collections/certifications/products/javascript-certificate', 'https://campus.w3schools.com/collections/course-catalog/products/javascript-course', 'https://campus.w3schools.com/collections/certifications/products/react-js-certificate', 'https://campus.w3schools.com/collections/certifications/products/react-js-certificate', 'https://campus.w3schools.com/collections/course-catalog/products/react-js-course', 'https://campus.w3schools.com/collections/certifications/products/jquery-certificate', 'https://campus.w3schools.com/collections/certifications/products/jquery-certificate', 'https://campus.w3schools.com/collections/course-catalog/products/jquery-course', 'https://campus.w3schools.com/products/vue-js-certification-exam', 'https://campus.w3schools.com/products/vue-js-certification-exam', 'https://campus.w3schools.com/collections/course-catalog/products/w3schools-full-access-course', 'https://campus.w3schools.com/collections/certifications/products/front-end-certificate', 'https://campus.w3schools.com/collections/certifications/products/front-end-certificate', 'https://campus.w3schools.com/collections/course-catalog/products/front-end-course', 'https://campus.w3schools.com/collections/certifications/products/modern-web-development-certification', 'https://campus.w3schools.com/collections/certifications/products/modern-web-development-certification', 'https://campus.w3schools.com/collections/course-best-sellers/products/learn-modern-web-development', 'https://campus.w3schools.com/collections/certifications/products/web-application-development-certificates', 'https://campus.w3schools.com/collections/certifications/products/web-application-development-certificates', 'https://campus.w3schools.com/collections/course-best-sellers/products/web-application-development-course', 'https://campus.w3schools.com/collections/certifications/products/web-design-certification', 'https://campus.w3schools.com/collections/certifications/products/web-design-certification', 'https://campus.w3schools.com/collections/course-best-sellers/products/learn-web-design', 'https://campus.w3schools.com/collections/course-catalog/products/w3schools-full-access-course', 'https://campus.w3schools.com/collections/certifications/products/front-end-certificate', 'https://campus.w3schools.com/collections/certifications/products/front-end-certificate', 'https://campus.w3schools.com/collections/course-catalog/products/front-end-course', 'https://campus.w3schools.com/collections/certifications/products/modern-web-development-certification', 'https://campus.w3schools.com/collections/certifications/products/modern-web-development-certification', 'https://campus.w3schools.com/collections/course-best-sellers/products/learn-modern-web-development', 'https://campus.w3schools.com/collections/certifications/products/web-application-development-certificates', 'https://campus.w3schools.com/collections/certifications/products/web-application-development-certificates', 'https://campus.w3schools.com/collections/course-best-sellers/products/web-application-development-course', 'https://campus.w3schools.com/collections/certifications/products/web-design-certification', 'https://campus.w3schools.com/collections/certifications/products/web-design-certification', 'https://campus.w3schools.com/collections/course-best-sellers/products/learn-web-design', 'https://campus.w3schools.com/collections/certifications/products/python-certificate', 'https://campus.w3schools.com/collections/certifications/products/python-certificate', 'https://campus.w3schools.com/collections/course-catalog/products/python-course', 'https://campus.w3schools.com/collections/certifications/products/sql-certificate', 'https://campus.w3schools.com/collections/certifications/products/sql-certificate', 'https://campus.w3schools.com/collections/course-catalog/products/sql-course', 'https://campus.w3schools.com/collections/certifications/products/mysql-certificate', 'https://campus.w3schools.com/collections/certifications/products/mysql-certificate', 'https://campus.w3schools.com/collections/certifications/products/php-certificate', 'https://campus.w3schools.com/collections/certifications/products/php-certificate', 'https://campus.w3schools.com/collections/course-catalog/products/php-course', 'https://campus.w3schools.com/collections/certifications/products/java-certificate', 'https://campus.w3schools.com/collections/certifications/products/java-certificate', 'https://campus.w3schools.com/collections/course-catalog/products/java-course', 'https://campus.w3schools.com/products/c-certification-exam', 'https://campus.w3schools.com/products/c-certification-exam', 'https://campus.w3schools.com/collections/certifications/products/c-certificate', 'https://campus.w3schools.com/collections/certifications/products/c-certificate', 'https://campus.w3schools.com/collections/course-catalog/products/c-course-1', 'https://campus.w3schools.com/collections/certifications/products/c-certificate-1', 'https://campus.w3schools.com/collections/certifications/products/c-certificate-1', 'https://campus.w3schools.com/collections/course-catalog/products/c-course', 'https://campus.w3schools.com/collections/course-catalog/products/r-course', 'https://campus.w3schools.com/collections/course-catalog/products/r-course', 'https://campus.w3schools.com/products/django-certification-exam', 'https://campus.w3schools.com/products/django-certification-exam', 'https://campus.w3schools.com/products/nodejs-certificate', 'https://campus.w3schools.com/products/nodejs-certificate', 'https://campus.w3schools.com/collections/certifications/products/typescript-certificate', 'https://campus.w3schools.com/collections/certifications/products/typescript-certificate', 'https://campus.w3schools.com/products/learn-typescript', 'https://campus.w3schools.com/collections/certifications/products/xml-certificate', 'https://campus.w3schools.com/collections/certifications/products/xml-certificate', 'https://campus.w3schools.com/collections/course-catalog/products/xml-course', 'https://campus.w3schools.com/collections/certifications/products/cyber-security-certificate', 'https://campus.w3schools.com/collections/certifications/products/cyber-security-certificate', 'https://campus.w3schools.com/products/cyber-security-course', 'https://campus.w3schools.com/collections/certifications/products/accessibility-certificate', 'https://campus.w3schools.com/collections/certifications/products/accessibility-certificate', 'https://campus.w3schools.com/products/accessibility-course', 'https://campus.w3schools.com/products/dsa-certification-exam', 'https://campus.w3schools.com/products/dsa-certification-exam', 'https://campus.w3schools.com/products/data-analytics-program', 'https://campus.w3schools.com/products/data-analytics-program', 'https://campus.w3schools.com/products/numpy-course', 'https://campus.w3schools.com/products/numpy-course', 'https://campus.w3schools.com/products/pandas-course', 'https://campus.w3schools.com/products/pandas-course', 'https://campus.w3schools.com/products/excel-certificate', 'https://campus.w3schools.com/products/excel-certificate', 'https://campus.w3schools.com/collections/course-best-sellers/products/social-media-marketing-course', 'https://campus.w3schools.com/collections/course-best-sellers/products/social-media-marketing-course', 'https://campus.w3schools.com', '/tutorials/index.php', '/references/index.php', '/spaces/index.php', '/exercises/index.php', '/quiztest/default.asp', 'https://campus.w3schools.com/collections/certifications', 'https://profile.w3schools.com/sign-up', 'https://profile.w3schools.com/sign-up', 'https://order.w3schools.com/plans', '/where_to_start.asp', '/tryit/default.asp', '/videos/index.php', '/w3css/w3css_templates.asp', '/spaces/index.php', '/spaces/index.php', '/howto/default.asp', '/w3css/default.asp', '/browsers/default.asp', '/typingspeed/default.asp', '/colors/colors_picker.asp', '/codegame/index.html', 'https://campus.w3schools.com/pages/newsletter', '/academy/index.php', '/academy/index.php', '/charsets/ref_emoji_intro.asp', '/charsets/default.asp', 'https://www.youtube.com/@w3schools', 'https://www.linkedin.com/company/w3schools.com/', 'https://discord.com/invite/w3schools', 'https://www.facebook.com/w3schoolscom/', 'https://www.instagram.com/w3schools.com_official/', 'javascript:void(0);', '/html/default.asp', '/css/default.asp', '/js/default.asp', '/sql/default.asp', '/python/default.asp', '/java/default.asp', '/php/default.asp', '/howto/default.asp', '/w3css/default.asp', '/c/index.php', '/cpp/default.asp', '/cs/index.php', '/bootstrap/bootstrap_ver.asp', '/react/default.asp', '/mysql/default.asp', '/jquery/default.asp', '/excel/index.php', '/xml/default.asp', '/django/index.php', '/python/numpy/default.asp', '/python/pandas/default.asp', '/nodejs/default.asp', '/dsa/index.php', '/typescript/index.php', '/angular/default.asp', '/angularjs/default.asp', '/git/default.asp', '/postgresql/index.php', '/mongodb/index.php', '/asp/default.asp', '/ai/default.asp', '/r/default.asp', '/go/index.php', '/kotlin/index.php', '/sass/default.asp', '/vue/index.php', '/gen_ai/index.php', '/python/scipy/index.php', '/cybersecurity/index.php', '/datascience/default.asp', '/programming/index.php', '/bash/index.php', '/rust/index.php', 'javascript:void(0)', 'default.asp', 'html_intro.asp', 'html_editors.asp', 'html_basic.asp', 'html_elements.asp', 'html_attributes.asp', 'html_headings.asp', 'html_paragraphs.asp', 'html_styles.asp', 'html_formatting.asp', 'html_quotation_elements.asp', 'html_comments.asp', 'html_colors.asp', 'html_colors.asp', 'html_colors_rgb.asp', 'html_colors_hex.asp', 'html_colors_hsl.asp', 'html_css.asp', 'html_links.asp', 'html_links.asp', 'html_links_colors.asp', 'html_links_bookmarks.asp', 'html_images.asp', 'html_images.asp', 'html_images_imagemap.asp', 'html_images_background.asp', 'html_images_picture.asp', 'html_favicon.asp', 'html_page_title.asp', 'html_tables.asp', 'html_tables.asp', 'html_table_borders.asp', 'html_table_sizes.asp', 'html_table_headers.asp', 'html_table_padding_spacing.asp', 'html_table_colspan_rowspan.asp', 'html_table_styling.asp', 'html_table_colgroup.asp', 'html_lists.asp', 'html_lists.asp', 'html_lists_unordered.asp', 'html_lists_ordered.asp', 'html_lists_other.asp', 'html_blocks.asp', 'html_div.asp', 'html_classes.asp', 'html_id.asp', 'html_iframe.asp', 'html_scripts.asp', 'html_filepaths.asp', 'html_head.asp', 'html_layout.asp', 'html_responsive.asp', 'html_computercode_elements.asp', 'html5_semantic_elements.asp', 'html5_syntax.asp', 'html_entities.asp', 'html_symbols.asp', 'html_emojis.asp', 'html_charset.asp', 'html_urlencode.asp', 'html_xhtml.asp', 'html_forms.asp', 'html_forms_attributes.asp', 'html_form_elements.asp', 'html_form_input_types.asp', 'html_form_attributes.asp', 'html_form_attributes_form.asp', 'html5_canvas.asp', 'html5_svg.asp', 'html_media.asp', 'html5_video.asp', 'html5_audio.asp', 'html_object.asp', 'html_youtube.asp', 'html5_api_whatis.asp', 'html5_geolocation.asp', 'html5_draganddrop.asp', 'html5_webstorage.asp', 'html5_webworkers.asp', 'html5_serversentevents.asp', 'html_examples.asp', 'html_editor.asp', 'html_quiz.asp', 'html_exercises.asp', 'html_website.asp', 'html_syllabus.asp', 'html_study_plan.asp', 'html_interview_prep.asp', 'html_bootcamp.asp', 'html_exam.asp', 'html_summary.asp', 'html_accessibility.asp', '/tags/default.asp', '/tags/ref_attributes.asp', '/tags/ref_standardattributes.asp', '/tags/ref_html_browsersupport.asp', '/tags/ref_eventattributes.asp', '/tags/ref_colornames.asp', '/tags/ref_canvas.asp', '/tags/ref_av_dom.asp', '/tags/ref_html_dtd.asp', '/tags/ref_charactersets.asp', '/tags/ref_urlencode.asp', '/tags/ref_language_codes.asp', '/tags/ref_httpmessages.asp', '/tags/ref_httpmethods.asp', '/tags/ref_pxtoemconversion.asp', '/tags/ref_keyboardshortcuts.asp', 'html_page_title.asp', 'html_table_borders.asp', 'tryit.asp?filename=tryhtml_table_intro', 'tryit.asp?filename=tryhtml_table3', 'tryit.asp?filename=tryhtml_table4', 'tryit.asp?filename=tryhtml_table5', 'tryit.asp?filename=tryhtml_table6', '/tags/tag_table.asp', '/tags/tag_th.asp', '/tags/tag_tr.asp', '/tags/tag_td.asp', '/tags/tag_caption.asp', '/tags/tag_colgroup.asp', '/tags/tag_col.asp', '/tags/tag_thead.asp', '/tags/tag_tbody.asp', '/tags/tag_tfoot.asp', '/tags/default.asp', 'https://youtu.be/e62D-aayveY&list=PLP9IO4UYNF0VdAajP_5pYG-jG2JRrG72s', 'html_page_title.asp', 'html_table_borders.asp', '/css/css_table.asp', '/howto/howto_js_filter_table.asp', '/howto/howto_js_sort_table.asp', '/howto/howto_css_table_responsive.asp', '/howto/howto_css_table_zebra.asp', 'https://profile.w3schools.com/log-in?redirect_url=https%3A%2F%2Fmy-learning.w3schools.com', 'https://profile.w3schools.com/log-in?redirect_url=https%3A%2F%2Fpathfinder.w3schools.com', 'https://campus.w3schools.com/products/w3schools-full-access-course', '/colors/colors_picker.asp', '/colors/colors_picker.asp', 'https://www.youtube.com/@w3schools', 'https://www.linkedin.com/company/w3schools.com/', 'https://discord.com/invite/w3schools', 'https://www.facebook.com/w3schoolscom/', 'https://www.instagram.com/w3schools.com_official/', 'https://www.tiktok.com/@w3schools.com', 'https://order.w3schools.com/plans', '//www.w3schools.com', '/plus/index.php', '/spaces/index.php', 'https://campus.w3schools.com/collections/certifications', '/academy/index.php', '/academy/index.php', 'javascript:void(0);', '/html/default.asp', '/css/default.asp', '/js/default.asp', '/howto/default.asp', '/sql/default.asp', '/python/default.asp', '/w3css/default.asp', '/bootstrap/bootstrap_ver.asp', '/php/default.asp', '/java/default.asp', '/cpp/default.asp', '/jquery/default.asp', '/tags/default.asp', '/cssref/index.php', '/jsref/default.asp', '/sql/sql_ref_keywords.asp', '/python/python_reference.asp', '/w3css/w3css_references.asp', '/bootstrap/bootstrap_ref_all_classes.asp', '/php/php_ref_overview.asp', '/colors/colors_names.asp', '/java/java_ref_keywords.asp', '/angularjs/angularjs_ref_directives.asp', '/jquery/jquery_ref_overview.asp', '/html/html_examples.asp', '/css/css_examples.asp', '/js/js_examples.asp', '/howto/default.asp', '/sql/sql_examples.asp', '/python/python_examples.asp', '/w3css/w3css_examples.asp', '/bootstrap/bootstrap_examples.asp', '/php/php_examples.asp', '/java/java_examples.asp', '/xml/xml_examples.asp', '/jquery/jquery_examples.asp', 'https://campus.w3schools.com/collections/course-catalog', 'https://campus.w3schools.com/collections/certifications/products/html-certificate', 'https://campus.w3schools.com/collections/certifications/products/css-certificate', 'https://campus.w3schools.com/collections/certifications/products/javascript-certificate', 'https://campus.w3schools.com/collections/certifications/products/front-end-certificate', 'https://campus.w3schools.com/collections/certifications/products/sql-certificate', 'https://campus.w3schools.com/collections/certifications/products/python-certificate', 'https://campus.w3schools.com/collections/certifications/products/php-certificate', 'https://campus.w3schools.com/collections/certifications/products/jquery-certificate', 'https://campus.w3schools.com/collections/certifications/products/java-certificate', 'https://campus.w3schools.com/collections/certifications/products/c-certificate', 'https://campus.w3schools.com/collections/certifications/products/c-certificate-1', 'https://campus.w3schools.com/collections/certifications/products/xml-certificate', 'https://www.youtube.com/@w3schools', 'https://www.linkedin.com/company/w3schools.com/', 'https://discord.com/invite/w3schools', 'https://www.facebook.com/w3schoolscom/', 'https://www.instagram.com/w3schools.com_official/', '/forum/default.asp', '/about/default.asp', '/academy/index.php', '/about/about_copyright.asp', '/about/about_privacy.asp', '/about/about_copyright.asp', '//www.w3schools.com/w3css/default.asp']\n"
     ]
    }
   ],
   "source": [
    "#Extract all Links\n",
    "\n",
    "#Extract all hyper links with in <a> tag\n",
    "#collect\n",
    "  # The Line Text\n",
    "  # The URL (from the href attribute)\n",
    "#Save the dat in python dictionary\n",
    "  #the key is the link text\n",
    "  #the value is the corresponding Url\n",
    "\n",
    "links = [ a[\"href\"] for a in soup.find_all(['a', 'href' == True]) ]\n",
    "print(links)"
   ]
  },
  {
   "cell_type": "code",
   "execution_count": 140,
   "id": "5ecd2171-a789-4c65-a9a7-5b26912f129b",
   "metadata": {},
   "outputs": [
    {
     "name": "stdout",
     "output_type": "stream",
     "text": [
      "{}\n",
      "{}\n",
      "{}\n",
      "{}\n",
      "{}\n",
      "{}\n",
      "{}\n"
     ]
    }
   ],
   "source": [
    "#Extract Table\n",
    "\n",
    " #Locate the first table on the page(typically the info box or summary table in wikipedia articles)\n",
    " #Extract the table structure and its data\n",
    "\n",
    "infobox = soup.find('table')\n",
    "\n",
    "if infobox:\n",
    "    rows = infobox.find_all('tr')\n",
    "    \n",
    "    data = {}\n",
    "    for row in rows:\n",
    "        header = row.find('th')\n",
    "        value = row.find('td')\n",
    "        if header and value:        \n",
    "            data [header.text.strip()] = value.text.strip()\n",
    "        print(data)  \n",
    "else:\n",
    "    print(\"info box table not found\")\n"
   ]
  },
  {
   "cell_type": "code",
   "execution_count": 136,
   "id": "62346b9b-4e74-4a3c-97c8-59b6c49750a0",
   "metadata": {},
   "outputs": [
    {
     "name": "stdout",
     "output_type": "stream",
     "text": [
      "Empty DataFrame\n",
      "Columns: [key, value]\n",
      "Index: []\n"
     ]
    }
   ],
   "source": [
    "#Convert table intop a dataframe\n",
    "\n",
    "#use pandas to convert the tableinto a dataframe\n",
    "#ensure the table headers and rows are correctly assigned\n",
    "\n",
    "table = pd.DataFrame(list(data.items()), columns = ['key','value'])\n",
    "print(table)\n"
   ]
  },
  {
   "cell_type": "code",
   "execution_count": null,
   "id": "7a4a1721-f7d4-4d79-9e9e-8a228ab2995b",
   "metadata": {},
   "outputs": [],
   "source": [
    "#Export the table\n",
    "\n",
    "#Export the data frame as a sumary table into a excel file named :- filename.xlsx\n",
    "#save the file in working directory\n",
    "\n",
    "table.to_excel(\"webscrapping_data.xlsx\")"
   ]
  }
 ],
 "metadata": {
  "kernelspec": {
   "display_name": "Python [conda env:base] *",
   "language": "python",
   "name": "conda-base-py"
  },
  "language_info": {
   "codemirror_mode": {
    "name": "ipython",
    "version": 3
   },
   "file_extension": ".py",
   "mimetype": "text/x-python",
   "name": "python",
   "nbconvert_exporter": "python",
   "pygments_lexer": "ipython3",
   "version": "3.13.5"
  }
 },
 "nbformat": 4,
 "nbformat_minor": 5
}
